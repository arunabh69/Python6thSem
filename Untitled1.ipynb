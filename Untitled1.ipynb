{
  "nbformat": 4,
  "nbformat_minor": 0,
  "metadata": {
    "colab": {
      "name": "Untitled1.ipynb",
      "provenance": [],
      "mount_file_id": "1u4JfK6sc8h_Ul-B9lqUndwNPIKns9H5D",
      "authorship_tag": "ABX9TyM77PncABXfDZS0yHU7sB8R",
      "include_colab_link": true
    },
    "kernelspec": {
      "name": "python3",
      "display_name": "Python 3"
    },
    "language_info": {
      "name": "python"
    }
  },
  "cells": [
    {
      "cell_type": "markdown",
      "metadata": {
        "id": "view-in-github",
        "colab_type": "text"
      },
      "source": [
        "<a href=\"https://colab.research.google.com/github/arunabh69/Python6thSem/blob/main/Untitled1.ipynb\" target=\"_parent\"><img src=\"https://colab.research.google.com/assets/colab-badge.svg\" alt=\"Open In Colab\"/></a>"
      ]
    },
    {
      "cell_type": "code",
      "source": [
        "!gdown https://drive.google.com/u/0/uc?id=1bum9Sehb3AzUMHLhBMuowPKyr_PCrB3a&export=download"
      ],
      "metadata": {
        "id": "V56TYYQj4YVE",
        "outputId": "973233cb-60b1-4705-e722-56388e5bf96a",
        "colab": {
          "base_uri": "https://localhost:8080/"
        }
      },
      "execution_count": 2,
      "outputs": [
        {
          "output_type": "stream",
          "name": "stdout",
          "text": [
            "Downloading...\n",
            "From: https://drive.google.com/u/0/uc?id=1bum9Sehb3AzUMHLhBMuowPKyr_PCrB3a\n",
            "To: /content/COVID-19_Radiography_Dataset.zip\n",
            "100% 814M/814M [00:08<00:00, 92.6MB/s]\n"
          ]
        }
      ]
    },
    {
      "cell_type": "code",
      "source": [
        "!unzip COVID-19_Radiography_Dataset.zip"
      ],
      "metadata": {
        "id": "8u4NzcSu48G4"
      },
      "execution_count": null,
      "outputs": []
    },
    {
      "cell_type": "code",
      "source": [
        "!rm COVID-19_Radiography_Dataset.zip"
      ],
      "metadata": {
        "id": "KWTKm0ZQ5MGr"
      },
      "execution_count": 5,
      "outputs": []
    },
    {
      "cell_type": "code",
      "source": [
        "!pip install split_folders"
      ],
      "metadata": {
        "id": "_aeYPkHX5SVD",
        "outputId": "f273897e-14d8-4048-e62f-09bed1eb6955",
        "colab": {
          "base_uri": "https://localhost:8080/"
        }
      },
      "execution_count": 7,
      "outputs": [
        {
          "output_type": "stream",
          "name": "stdout",
          "text": [
            "Collecting split_folders\n",
            "  Downloading split_folders-0.5.1-py3-none-any.whl (8.4 kB)\n",
            "Installing collected packages: split-folders\n",
            "Successfully installed split-folders-0.5.1\n"
          ]
        }
      ]
    },
    {
      "cell_type": "code",
      "metadata": {
        "id": "8xXGHVOIlheA",
        "colab": {
          "base_uri": "https://localhost:8080/"
        },
        "outputId": "65521ef3-c7bd-431f-af07-379b772904ad"
      },
      "source": [
        "import splitfolders\n",
        "splitfolders.ratio(\"./COVID-19_Radiography_Dataset/COVID\", output=\"split\", seed=1337, ratio=(.8, .1, .1), group_prefix=None)"
      ],
      "execution_count": 8,
      "outputs": [
        {
          "output_type": "stream",
          "name": "stderr",
          "text": [
            "Copying files: 7232 files [00:01, 5487.73 files/s]\n"
          ]
        }
      ]
    },
    {
      "cell_type": "code",
      "metadata": {
        "id": "4of-TiQPlkCZ",
        "colab": {
          "base_uri": "https://localhost:8080/"
        },
        "outputId": "909c022c-8eee-4258-df50-453c2b8a9d7a"
      },
      "source": [
        "from keras.preprocessing.image import ImageDataGenerator\n",
        "\n",
        "# Normalize training and validation data in the range of 0 to 1\n",
        "train_datagen = ImageDataGenerator(rescale=1./255)\n",
        "validation_datagen = ImageDataGenerator(rescale=1./255)\n",
        "test_datagen = ImageDataGenerator(rescale=1./255)\n",
        "\n",
        "# Read the training sample and set the batch size \n",
        "train_generator = train_datagen.flow_from_directory(\n",
        "        './split/train/',\n",
        "        target_size=(128, 128),\n",
        "        batch_size=8,\n",
        "        seed=100,\n",
        "        class_mode='categorical')\n",
        "\n",
        "# Read Validation data from directory and define target size with batch size\n",
        "validation_generator = validation_datagen.flow_from_directory(\n",
        "        './split/val/',\n",
        "        target_size=(128, 128),\n",
        "        batch_size=8,\n",
        "        class_mode='categorical',\n",
        "        seed=1000,\n",
        "        shuffle=False)\n",
        "\n",
        "test_generator = test_datagen.flow_from_directory(\n",
        "        './split/test/',\n",
        "        target_size=(128, 128),\n",
        "        batch_size=8,\n",
        "        seed=500,\n",
        "        class_mode='categorical',\n",
        "        shuffle=False)"
      ],
      "execution_count": 9,
      "outputs": [
        {
          "output_type": "stream",
          "name": "stdout",
          "text": [
            "Found 5784 images belonging to 2 classes.\n",
            "Found 722 images belonging to 2 classes.\n",
            "Found 726 images belonging to 2 classes.\n"
          ]
        }
      ]
    },
    {
      "cell_type": "code",
      "source": [
        ""
      ],
      "metadata": {
        "id": "MGnA6ka08CBE"
      },
      "execution_count": null,
      "outputs": []
    },
    {
      "cell_type": "code",
      "metadata": {
        "id": "RrA7f0eKl4tH",
        "colab": {
          "base_uri": "https://localhost:8080/"
        },
        "outputId": "8b63e7d3-ba5b-4003-aff7-d88fb4dd39d0"
      },
      "source": [
        "from tensorflow import keras\n",
        "from keras import layers\n",
        "inputs = keras.Input(shape=(128, 128,3))\n",
        "x = layers.Flatten()(inputs)\n",
        "x = layers.Dense(32, activation=\"relu\")(x)\n",
        "x = layers.Dense(64, activation='relu')(x)\n",
        "outputs = layers.Dense(2, activation=\"softmax\")(x)\n",
        "model = keras.Model(inputs, outputs)\n",
        "model.summary()"
      ],
      "execution_count": 30,
      "outputs": [
        {
          "output_type": "stream",
          "name": "stdout",
          "text": [
            "Model: \"model_2\"\n",
            "_________________________________________________________________\n",
            " Layer (type)                Output Shape              Param #   \n",
            "=================================================================\n",
            " input_3 (InputLayer)        [(None, 128, 128, 3)]     0         \n",
            "                                                                 \n",
            " flatten_2 (Flatten)         (None, 49152)             0         \n",
            "                                                                 \n",
            " dense_6 (Dense)             (None, 32)                1572896   \n",
            "                                                                 \n",
            " dense_7 (Dense)             (None, 64)                2112      \n",
            "                                                                 \n",
            " dense_8 (Dense)             (None, 2)                 130       \n",
            "                                                                 \n",
            "=================================================================\n",
            "Total params: 1,575,138\n",
            "Trainable params: 1,575,138\n",
            "Non-trainable params: 0\n",
            "_________________________________________________________________\n"
          ]
        }
      ]
    },
    {
      "cell_type": "code",
      "metadata": {
        "id": "DixxjVJelrcg",
        "colab": {
          "base_uri": "https://localhost:8080/"
        },
        "outputId": "27204c82-7a2b-4e8c-902f-acce65932bc8"
      },
      "source": [
        "import tensorflow\n",
        "from tensorflow.keras.optimizers import Adam\n",
        "\n",
        "\n",
        "adam = Adam(learning_rate=0.0001)\n",
        "# We are going to use accuracy metrics and cross entropy loss as performance parameters\n",
        "model.compile(loss=tensorflow.keras.losses.CategoricalCrossentropy(), optimizer = adam, metrics=['acc'])\n",
        "# Train the model \n",
        "history = model.fit(train_generator, \n",
        "      steps_per_epoch=train_generator.samples/train_generator.batch_size,\n",
        "      epochs=100,\n",
        "      validation_data=validation_generator,\n",
        "      validation_steps=validation_generator.samples/validation_generator.batch_size, verbose=1)"
      ],
      "execution_count": null,
      "outputs": [
        {
          "output_type": "stream",
          "name": "stdout",
          "text": [
            "Epoch 1/100\n",
            "723/723 [==============================] - 24s 32ms/step - loss: 0.0137 - acc: 0.9964 - val_loss: 0.0060 - val_acc: 0.9986\n",
            "Epoch 2/100\n",
            "723/723 [==============================] - 23s 32ms/step - loss: 0.0043 - acc: 0.9981 - val_loss: 0.0010 - val_acc: 1.0000\n",
            "Epoch 3/100\n",
            "723/723 [==============================] - 22s 30ms/step - loss: 7.4658e-04 - acc: 0.9998 - val_loss: 7.3340e-04 - val_acc: 1.0000\n",
            "Epoch 4/100\n",
            "723/723 [==============================] - 23s 31ms/step - loss: 3.7355e-04 - acc: 1.0000 - val_loss: 0.0017 - val_acc: 1.0000\n",
            "Epoch 5/100\n",
            "723/723 [==============================] - 24s 33ms/step - loss: 0.0021 - acc: 0.9991 - val_loss: 7.1684e-04 - val_acc: 1.0000\n",
            "Epoch 6/100\n",
            "723/723 [==============================] - 23s 32ms/step - loss: 5.2522e-05 - acc: 1.0000 - val_loss: 2.7084e-04 - val_acc: 1.0000\n",
            "Epoch 7/100\n",
            "723/723 [==============================] - 24s 33ms/step - loss: 2.7249e-05 - acc: 1.0000 - val_loss: 5.3132e-04 - val_acc: 1.0000\n",
            "Epoch 8/100\n",
            "723/723 [==============================] - 24s 33ms/step - loss: 1.3546e-05 - acc: 1.0000 - val_loss: 3.5693e-04 - val_acc: 1.0000\n",
            "Epoch 9/100\n",
            "723/723 [==============================] - 23s 32ms/step - loss: 9.5336e-06 - acc: 1.0000 - val_loss: 3.4338e-04 - val_acc: 1.0000\n",
            "Epoch 10/100\n",
            "723/723 [==============================] - 23s 32ms/step - loss: 6.7076e-06 - acc: 1.0000 - val_loss: 3.7780e-04 - val_acc: 1.0000\n",
            "Epoch 11/100\n",
            "723/723 [==============================] - 24s 33ms/step - loss: 4.6610e-06 - acc: 1.0000 - val_loss: 3.4712e-04 - val_acc: 1.0000\n",
            "Epoch 12/100\n",
            "723/723 [==============================] - 23s 32ms/step - loss: 3.5596e-06 - acc: 1.0000 - val_loss: 5.1546e-04 - val_acc: 1.0000\n",
            "Epoch 13/100\n",
            "723/723 [==============================] - 23s 32ms/step - loss: 2.4814e-06 - acc: 1.0000 - val_loss: 4.0659e-04 - val_acc: 1.0000\n",
            "Epoch 14/100\n",
            "723/723 [==============================] - 23s 32ms/step - loss: 1.7134e-06 - acc: 1.0000 - val_loss: 5.5299e-04 - val_acc: 1.0000\n",
            "Epoch 15/100\n",
            "723/723 [==============================] - 23s 32ms/step - loss: 1.3002e-06 - acc: 1.0000 - val_loss: 3.9992e-04 - val_acc: 1.0000\n",
            "Epoch 16/100\n",
            "723/723 [==============================] - 24s 33ms/step - loss: 9.4370e-07 - acc: 1.0000 - val_loss: 5.4581e-04 - val_acc: 1.0000\n",
            "Epoch 17/100\n",
            "723/723 [==============================] - 24s 34ms/step - loss: 6.8853e-07 - acc: 1.0000 - val_loss: 4.2179e-04 - val_acc: 1.0000\n",
            "Epoch 18/100\n",
            "723/723 [==============================] - 24s 33ms/step - loss: 4.9334e-07 - acc: 1.0000 - val_loss: 4.6335e-04 - val_acc: 1.0000\n",
            "Epoch 19/100\n",
            "723/723 [==============================] - 23s 32ms/step - loss: 3.4194e-07 - acc: 1.0000 - val_loss: 3.7774e-04 - val_acc: 1.0000\n",
            "Epoch 20/100\n",
            " 42/723 [>.............................] - ETA: 19s - loss: 5.5347e-08 - acc: 1.0000"
          ]
        }
      ]
    }
  ]
}